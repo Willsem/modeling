{
 "cells": [
  {
   "cell_type": "markdown",
   "metadata": {},
   "source": [
    "# Равномерное распределение\n",
    "\n",
    "## Плотность распределения\n",
    "\n",
    "$\n",
    "f_X (x) =\n",
    "\\begin{cases}\n",
    "    \\frac{1}{b-a}, x \\in [a, b] \\\\\n",
    "    0, x \\notin [a, b] \\\\\n",
    "\\end{cases}\n",
    "$\n",
    "\n",
    "## Функция распределения\n",
    "\n",
    "$\n",
    "F_X (x) =\n",
    "\\begin{cases}\n",
    "    0, x < a \\\\\n",
    "    \\frac{x - a}{b - a}, a \\le x < b \\\\\n",
    "    1, x \\geq b \\\\\n",
    "\\end{cases}\n",
    "$"
   ]
  },
  {
   "cell_type": "code",
   "execution_count": null,
   "metadata": {},
   "outputs": [],
   "source": []
  }
 ],
 "metadata": {
  "kernelspec": {
   "display_name": "Python 3",
   "language": "python",
   "name": "python3"
  },
  "language_info": {
   "codemirror_mode": {
    "name": "ipython",
    "version": 3
   },
   "file_extension": ".py",
   "mimetype": "text/x-python",
   "name": "python",
   "nbconvert_exporter": "python",
   "pygments_lexer": "ipython3",
   "version": "3.8.5"
  }
 },
 "nbformat": 4,
 "nbformat_minor": 4
}
